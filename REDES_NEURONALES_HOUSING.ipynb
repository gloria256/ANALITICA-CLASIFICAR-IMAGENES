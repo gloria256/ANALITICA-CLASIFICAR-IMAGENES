{
  "nbformat": 4,
  "nbformat_minor": 0,
  "metadata": {
    "colab": {
      "name": "REDES-NEURONALES-HOUSING.ipynb",
      "provenance": [],
      "collapsed_sections": [],
      "authorship_tag": "ABX9TyN/eOZEME2aUIhLazQ19qve",
      "include_colab_link": true
    },
    "kernelspec": {
      "name": "python3",
      "display_name": "Python 3"
    }
  },
  "cells": [
    {
      "cell_type": "markdown",
      "metadata": {
        "id": "view-in-github",
        "colab_type": "text"
      },
      "source": [
        "<a href=\"https://colab.research.google.com/github/gloria256/ANALITICA-CLASIFICAR-IMAGENES/blob/master/REDES_NEURONALES_HOUSING.ipynb\" target=\"_parent\"><img src=\"https://colab.research.google.com/assets/colab-badge.svg\" alt=\"Open In Colab\"/></a>"
      ]
    },
    {
      "cell_type": "markdown",
      "metadata": {
        "id": "eCiv3Zu132uO",
        "colab_type": "text"
      },
      "source": [
        "# APLICACION DE REDES NEURONALES A HOUSING"
      ]
    },
    {
      "cell_type": "markdown",
      "metadata": {
        "id": "6OXR2NKa3asO",
        "colab_type": "text"
      },
      "source": [
        "#1. importacionn de librerias, base de datos y funciones desde drive"
      ]
    },
    {
      "cell_type": "code",
      "metadata": {
        "id": "cQ-ViG213KKP",
        "colab_type": "code",
        "outputId": "9c34afd0-ef9b-4d58-9592-63a520925c5b",
        "colab": {
          "base_uri": "https://localhost:8080/",
          "height": 204
        }
      },
      "source": [
        "# IMPORTACION DE LIBRERIAS BASICAS\n",
        "import pandas as pd\n",
        "import numpy as np\n",
        "import matplotlib.pyplot as plt\n",
        "import warnings\n",
        "warnings.filterwarnings(\"ignore\")\n",
        "\n",
        "# ACCESO A GOOGLE DRIVE\n",
        "from pydrive.auth import GoogleAuth\n",
        "from pydrive.drive import GoogleDrive\n",
        "from google.colab import auth\n",
        "from oauth2client.client import GoogleCredentials\n",
        "auth.authenticate_user()\n",
        "gauth = GoogleAuth()\n",
        "gauth.credentials = GoogleCredentials.get_application_default()\n",
        "drive = GoogleDrive(gauth)\n",
        "\n",
        "# ACCESO DE BASE DE DATOS\n",
        "Bd_housing = '1nq_ms3a1XAeIw811BAKupTDEznKD-ijh' \n",
        "downloaded = drive.CreateFile({'id': Bd_housing})\n",
        "downloaded.GetContentFile('housing.csv') \n",
        "\n",
        "# ACCESO ARCHIVO DE FUNCIONES\n",
        "Funciones = '1RK1rfMWxgoaF1LLm0yp8vD5JSSbk6xCs' \n",
        "downloaded = drive.CreateFile({'id': Funciones})\n",
        "downloaded.GetContentFile('Funciones.py') \n",
        "\n",
        "# LECTURA DE BASE DE DATOS CON PANDAS\n",
        "from Funciones import pre_exploratorio_housing\n",
        "Bd=pd.read_csv('housing.csv')\n",
        "Bd.head()"
      ],
      "execution_count": 1,
      "outputs": [
        {
          "output_type": "execute_result",
          "data": {
            "text/html": [
              "<div>\n",
              "<style scoped>\n",
              "    .dataframe tbody tr th:only-of-type {\n",
              "        vertical-align: middle;\n",
              "    }\n",
              "\n",
              "    .dataframe tbody tr th {\n",
              "        vertical-align: top;\n",
              "    }\n",
              "\n",
              "    .dataframe thead th {\n",
              "        text-align: right;\n",
              "    }\n",
              "</style>\n",
              "<table border=\"1\" class=\"dataframe\">\n",
              "  <thead>\n",
              "    <tr style=\"text-align: right;\">\n",
              "      <th></th>\n",
              "      <th>longitude</th>\n",
              "      <th>latitude</th>\n",
              "      <th>housing_median_age</th>\n",
              "      <th>total_rooms</th>\n",
              "      <th>total_bedrooms</th>\n",
              "      <th>population</th>\n",
              "      <th>households</th>\n",
              "      <th>median_income</th>\n",
              "      <th>median_house_value</th>\n",
              "      <th>ocean_proximity</th>\n",
              "    </tr>\n",
              "  </thead>\n",
              "  <tbody>\n",
              "    <tr>\n",
              "      <th>0</th>\n",
              "      <td>-122.23</td>\n",
              "      <td>37.88</td>\n",
              "      <td>41.0</td>\n",
              "      <td>880.0</td>\n",
              "      <td>129.0</td>\n",
              "      <td>322.0</td>\n",
              "      <td>126.0</td>\n",
              "      <td>8.3252</td>\n",
              "      <td>452600.0</td>\n",
              "      <td>NEAR BAY</td>\n",
              "    </tr>\n",
              "    <tr>\n",
              "      <th>1</th>\n",
              "      <td>-122.22</td>\n",
              "      <td>37.86</td>\n",
              "      <td>21.0</td>\n",
              "      <td>7099.0</td>\n",
              "      <td>1106.0</td>\n",
              "      <td>2401.0</td>\n",
              "      <td>1138.0</td>\n",
              "      <td>8.3014</td>\n",
              "      <td>358500.0</td>\n",
              "      <td>NEAR BAY</td>\n",
              "    </tr>\n",
              "    <tr>\n",
              "      <th>2</th>\n",
              "      <td>-122.24</td>\n",
              "      <td>37.85</td>\n",
              "      <td>52.0</td>\n",
              "      <td>1467.0</td>\n",
              "      <td>190.0</td>\n",
              "      <td>496.0</td>\n",
              "      <td>177.0</td>\n",
              "      <td>7.2574</td>\n",
              "      <td>352100.0</td>\n",
              "      <td>NEAR BAY</td>\n",
              "    </tr>\n",
              "    <tr>\n",
              "      <th>3</th>\n",
              "      <td>-122.25</td>\n",
              "      <td>37.85</td>\n",
              "      <td>52.0</td>\n",
              "      <td>1274.0</td>\n",
              "      <td>235.0</td>\n",
              "      <td>558.0</td>\n",
              "      <td>219.0</td>\n",
              "      <td>5.6431</td>\n",
              "      <td>341300.0</td>\n",
              "      <td>NEAR BAY</td>\n",
              "    </tr>\n",
              "    <tr>\n",
              "      <th>4</th>\n",
              "      <td>-122.25</td>\n",
              "      <td>37.85</td>\n",
              "      <td>52.0</td>\n",
              "      <td>1627.0</td>\n",
              "      <td>280.0</td>\n",
              "      <td>565.0</td>\n",
              "      <td>259.0</td>\n",
              "      <td>3.8462</td>\n",
              "      <td>342200.0</td>\n",
              "      <td>NEAR BAY</td>\n",
              "    </tr>\n",
              "  </tbody>\n",
              "</table>\n",
              "</div>"
            ],
            "text/plain": [
              "   longitude  latitude  ...  median_house_value  ocean_proximity\n",
              "0    -122.23     37.88  ...            452600.0         NEAR BAY\n",
              "1    -122.22     37.86  ...            358500.0         NEAR BAY\n",
              "2    -122.24     37.85  ...            352100.0         NEAR BAY\n",
              "3    -122.25     37.85  ...            341300.0         NEAR BAY\n",
              "4    -122.25     37.85  ...            342200.0         NEAR BAY\n",
              "\n",
              "[5 rows x 10 columns]"
            ]
          },
          "metadata": {
            "tags": []
          },
          "execution_count": 1
        }
      ]
    },
    {
      "cell_type": "markdown",
      "metadata": {
        "id": "FUea6Bxw4hTt",
        "colab_type": "text"
      },
      "source": [
        "#2. Análisis exploratorio Inicial: Particionar los datos, quitar la salida de los datos de entrenamiento y completar datos NUM y CAT."
      ]
    },
    {
      "cell_type": "code",
      "metadata": {
        "id": "pu6dhsee4VWJ",
        "colab_type": "code",
        "colab": {}
      },
      "source": [
        "# IMPORTACIÓN DE LIBRERIAS NECESARIAS\n",
        "from sklearn.model_selection import train_test_split\n",
        "from sklearn.preprocessing import OrdinalEncoder\n",
        "\n",
        "# PARTCIÓN: 70% xtrain, 30% test\n",
        "Xtrain, Xtest = train_test_split(Bd,test_size=0.3,random_state=42)\n",
        "Xtrain, Xvalid = train_test_split(Xtrain,test_size=0.3,random_state=42)\n",
        "\n",
        "\n",
        "# COLUMNA DE SALIDA, COLUMNAS NUMÉRICAS Y COLUMNAS CATEGÓRICAS\n",
        "col_sal='median_house_value'\n",
        "col_num=['longitude','latitude','housing_median_age','total_rooms','total_bedrooms',\n",
        "        'population','households','median_income']\n",
        "col_cat=['ocean_proximity']\n",
        "\n",
        "# FUNCIÓN PARA COMPLETAR FALTANTES XTRAIN Y XTEST\n",
        "Xtrain, Ytrain= pre_exploratorio_housing(Xtrain,col_sal,col_num,col_cat,estra_num='median',estra_cat='most_frequent')\n",
        "Xtest, Ytest= pre_exploratorio_housing(Xtest,col_sal,col_num,col_cat,estra_num='median',estra_cat='most_frequent')\n",
        "Xvalid, Yvalid= pre_exploratorio_housing(Xvalid,col_sal,col_num,col_cat,estra_num='median',estra_cat='most_frequent')\n",
        "\n",
        "\n",
        "# CODIFICACIÓN DE COLUMNAS CATEGÓRICAS\n",
        "codificador = OrdinalEncoder()\n",
        "Xtrain['ocean_proximity'].value_counts()\n",
        "Xtrain['ocean_proximity'] = codificador.fit_transform(Xtrain[['ocean_proximity']])\n",
        "Xvalid['ocean_proximity'].value_counts()\n",
        "Xvalid['ocean_proximity'] = codificador.fit_transform(Xvalid[['ocean_proximity']])\n",
        "Xtest['ocean_proximity'].value_counts()\n",
        "Xtest['ocean_proximity'] = codificador.fit_transform(Xtest[['ocean_proximity']])"
      ],
      "execution_count": 0,
      "outputs": []
    },
    {
      "cell_type": "code",
      "metadata": {
        "id": "M7tV06Ee4sRu",
        "colab_type": "code",
        "outputId": "1560920a-f52d-4520-ba27-d104e99eb57b",
        "colab": {
          "base_uri": "https://localhost:8080/",
          "height": 255
        }
      },
      "source": [
        "Xtrain.info()"
      ],
      "execution_count": 3,
      "outputs": [
        {
          "output_type": "stream",
          "text": [
            "<class 'pandas.core.frame.DataFrame'>\n",
            "Int64Index: 10113 entries, 6157 to 1101\n",
            "Data columns (total 9 columns):\n",
            "longitude             10113 non-null float64\n",
            "latitude              10113 non-null float64\n",
            "housing_median_age    10113 non-null float64\n",
            "total_rooms           10113 non-null float64\n",
            "total_bedrooms        10113 non-null float64\n",
            "population            10113 non-null float64\n",
            "households            10113 non-null float64\n",
            "median_income         10113 non-null float64\n",
            "ocean_proximity       10113 non-null float64\n",
            "dtypes: float64(9)\n",
            "memory usage: 790.1 KB\n"
          ],
          "name": "stdout"
        }
      ]
    },
    {
      "cell_type": "code",
      "metadata": {
        "id": "5NiP9Fl45NLv",
        "colab_type": "code",
        "outputId": "2ad98963-8fef-46e0-c751-012d1d8ffed7",
        "colab": {
          "base_uri": "https://localhost:8080/",
          "height": 34
        }
      },
      "source": [
        "Xtrain.shape"
      ],
      "execution_count": 4,
      "outputs": [
        {
          "output_type": "execute_result",
          "data": {
            "text/plain": [
              "(10113, 9)"
            ]
          },
          "metadata": {
            "tags": []
          },
          "execution_count": 4
        }
      ]
    },
    {
      "cell_type": "markdown",
      "metadata": {
        "id": "7L3Qt9Qoidnw",
        "colab_type": "text"
      },
      "source": [
        "#3. Instalar TensorFlow"
      ]
    },
    {
      "cell_type": "code",
      "metadata": {
        "id": "e1uKbgc67J-O",
        "colab_type": "code",
        "outputId": "cff2a429-1621-4e39-825b-24fe5a8866d2",
        "colab": {
          "base_uri": "https://localhost:8080/",
          "height": 496
        }
      },
      "source": [
        "!pip install tensorflow==2.0.0-alpha0\n",
        "!pip install keras"
      ],
      "execution_count": 5,
      "outputs": [
        {
          "output_type": "stream",
          "text": [
            "Requirement already satisfied: tensorflow==2.0.0-alpha0 in /usr/local/lib/python3.6/dist-packages (2.0.0a0)\n",
            "Requirement already satisfied: wheel>=0.26 in /usr/local/lib/python3.6/dist-packages (from tensorflow==2.0.0-alpha0) (0.34.2)\n",
            "Requirement already satisfied: astor>=0.6.0 in /usr/local/lib/python3.6/dist-packages (from tensorflow==2.0.0-alpha0) (0.8.1)\n",
            "Requirement already satisfied: absl-py>=0.7.0 in /usr/local/lib/python3.6/dist-packages (from tensorflow==2.0.0-alpha0) (0.9.0)\n",
            "Requirement already satisfied: protobuf>=3.6.1 in /usr/local/lib/python3.6/dist-packages (from tensorflow==2.0.0-alpha0) (3.10.0)\n",
            "Requirement already satisfied: grpcio>=1.8.6 in /usr/local/lib/python3.6/dist-packages (from tensorflow==2.0.0-alpha0) (1.15.0)\n",
            "Requirement already satisfied: tf-estimator-nightly<1.14.0.dev2019030116,>=1.14.0.dev2019030115 in /usr/local/lib/python3.6/dist-packages (from tensorflow==2.0.0-alpha0) (1.14.0.dev2019030115)\n",
            "Requirement already satisfied: gast>=0.2.0 in /usr/local/lib/python3.6/dist-packages (from tensorflow==2.0.0-alpha0) (0.2.2)\n",
            "Requirement already satisfied: termcolor>=1.1.0 in /usr/local/lib/python3.6/dist-packages (from tensorflow==2.0.0-alpha0) (1.1.0)\n",
            "Requirement already satisfied: keras-preprocessing>=1.0.5 in /usr/local/lib/python3.6/dist-packages (from tensorflow==2.0.0-alpha0) (1.1.0)\n",
            "Requirement already satisfied: six>=1.10.0 in /usr/local/lib/python3.6/dist-packages (from tensorflow==2.0.0-alpha0) (1.12.0)\n",
            "Requirement already satisfied: google-pasta>=0.1.2 in /usr/local/lib/python3.6/dist-packages (from tensorflow==2.0.0-alpha0) (0.1.8)\n",
            "Requirement already satisfied: keras-applications>=1.0.6 in /usr/local/lib/python3.6/dist-packages (from tensorflow==2.0.0-alpha0) (1.0.8)\n",
            "Requirement already satisfied: tb-nightly<1.14.0a20190302,>=1.14.0a20190301 in /usr/local/lib/python3.6/dist-packages (from tensorflow==2.0.0-alpha0) (1.14.0a20190301)\n",
            "Requirement already satisfied: numpy<2.0,>=1.14.5 in /usr/local/lib/python3.6/dist-packages (from tensorflow==2.0.0-alpha0) (1.17.5)\n",
            "Requirement already satisfied: setuptools in /usr/local/lib/python3.6/dist-packages (from protobuf>=3.6.1->tensorflow==2.0.0-alpha0) (45.1.0)\n",
            "Requirement already satisfied: h5py in /usr/local/lib/python3.6/dist-packages (from keras-applications>=1.0.6->tensorflow==2.0.0-alpha0) (2.8.0)\n",
            "Requirement already satisfied: werkzeug>=0.11.15 in /usr/local/lib/python3.6/dist-packages (from tb-nightly<1.14.0a20190302,>=1.14.0a20190301->tensorflow==2.0.0-alpha0) (0.16.1)\n",
            "Requirement already satisfied: markdown>=2.6.8 in /usr/local/lib/python3.6/dist-packages (from tb-nightly<1.14.0a20190302,>=1.14.0a20190301->tensorflow==2.0.0-alpha0) (3.1.1)\n",
            "Requirement already satisfied: keras in /usr/local/lib/python3.6/dist-packages (2.2.5)\n",
            "Requirement already satisfied: keras-preprocessing>=1.1.0 in /usr/local/lib/python3.6/dist-packages (from keras) (1.1.0)\n",
            "Requirement already satisfied: pyyaml in /usr/local/lib/python3.6/dist-packages (from keras) (3.13)\n",
            "Requirement already satisfied: h5py in /usr/local/lib/python3.6/dist-packages (from keras) (2.8.0)\n",
            "Requirement already satisfied: six>=1.9.0 in /usr/local/lib/python3.6/dist-packages (from keras) (1.12.0)\n",
            "Requirement already satisfied: numpy>=1.9.1 in /usr/local/lib/python3.6/dist-packages (from keras) (1.17.5)\n",
            "Requirement already satisfied: scipy>=0.14 in /usr/local/lib/python3.6/dist-packages (from keras) (1.4.1)\n",
            "Requirement already satisfied: keras-applications>=1.0.8 in /usr/local/lib/python3.6/dist-packages (from keras) (1.0.8)\n"
          ],
          "name": "stdout"
        }
      ]
    },
    {
      "cell_type": "markdown",
      "metadata": {
        "id": "GrSlA9aBioUr",
        "colab_type": "text"
      },
      "source": [
        "#4. Pasar Xtrain,Xtest y Xvalid a numpy array, ya que las entradas a la red neuronal deben ser numpy arrays."
      ]
    },
    {
      "cell_type": "code",
      "metadata": {
        "id": "BGMhCvG_Joud",
        "colab_type": "code",
        "outputId": "9da9875b-54eb-4339-beb0-5acfc628d7ed",
        "colab": {
          "base_uri": "https://localhost:8080/",
          "height": 34
        }
      },
      "source": [
        "Xtrain=np.array(Xtrain)\n",
        "Xvalid=np.array(Xvalid)\n",
        "Xtest=np.array(Xtest)\n",
        "#Xtrain=Xtrain.reshape(14448,1,9)  #.astype('float32') / 255\n",
        "#Ytrain=Ytrain                     #.astype('float32')\n",
        "#A=np.zeros((3,14448,3))          # matriz con 3 capas, 1 fila, 3 columnas\n",
        "\n",
        "Xtrain.shape"
      ],
      "execution_count": 6,
      "outputs": [
        {
          "output_type": "execute_result",
          "data": {
            "text/plain": [
              "(10113, 9)"
            ]
          },
          "metadata": {
            "tags": []
          },
          "execution_count": 6
        }
      ]
    },
    {
      "cell_type": "markdown",
      "metadata": {
        "id": "o2zOg6i3i5sw",
        "colab_type": "text"
      },
      "source": [
        "#5. Defimicion del modelo de la red neuronal con Keras."
      ]
    },
    {
      "cell_type": "code",
      "metadata": {
        "id": "W05OKi-D5XpF",
        "colab_type": "code",
        "colab": {}
      },
      "source": [
        "import tensorflow as tf\n",
        "from tensorflow import keras\n",
        "#print(tf.__version__)\n",
        "\n",
        "keras.backend.clear_session()\n",
        "np.random.seed(42)\n",
        "tf.random.set_seed(42)\n",
        "\n",
        "model = keras.models.Sequential()\n",
        "#model.add(keras.layers.Flatten(input_shape=[1, 9]))# se comenta porque ya estan las entradas\n",
        "model.add(keras.layers.Dense(30, input_shape=(9,), activation=\"relu\"))     #input_shape=(9,) 9 son las entradas a una neurona de la capa densa\n",
        "model.add(keras.layers.Dense(10, activation=\"sigmoid\"))\n",
        "model.add(keras.layers.Dense(1))                                           #no tiene activacion porque los valores de la salida estan por fuera del rango 0,1"
      ],
      "execution_count": 0,
      "outputs": []
    },
    {
      "cell_type": "code",
      "metadata": {
        "id": "EbElz4VwYUMP",
        "colab_type": "code",
        "outputId": "f1177bbd-98b6-4dc3-fa1f-28b4b9ffd555",
        "colab": {
          "base_uri": "https://localhost:8080/",
          "height": 68
        }
      },
      "source": [
        "model.layers"
      ],
      "execution_count": 8,
      "outputs": [
        {
          "output_type": "execute_result",
          "data": {
            "text/plain": [
              "[<tensorflow.python.keras.layers.core.Dense at 0x7f92179b4e10>,\n",
              " <tensorflow.python.keras.layers.core.Dense at 0x7f9212ed9358>,\n",
              " <tensorflow.python.keras.layers.core.Dense at 0x7f9212ed9be0>]"
            ]
          },
          "metadata": {
            "tags": []
          },
          "execution_count": 8
        }
      ]
    },
    {
      "cell_type": "code",
      "metadata": {
        "id": "AoemeFL6YdGK",
        "colab_type": "code",
        "outputId": "e32be509-80e1-45a2-99c2-0b22ef675c0a",
        "colab": {
          "base_uri": "https://localhost:8080/",
          "height": 255
        }
      },
      "source": [
        "#VISUALIZACION DE LAS CAPAS Y LAS NEURONAS DE LA RED NEURONAL\n",
        "model.summary()"
      ],
      "execution_count": 9,
      "outputs": [
        {
          "output_type": "stream",
          "text": [
            "Model: \"sequential\"\n",
            "_________________________________________________________________\n",
            "Layer (type)                 Output Shape              Param #   \n",
            "=================================================================\n",
            "dense (Dense)                (None, 30)                300       \n",
            "_________________________________________________________________\n",
            "dense_1 (Dense)              (None, 10)                310       \n",
            "_________________________________________________________________\n",
            "dense_2 (Dense)              (None, 1)                 11        \n",
            "=================================================================\n",
            "Total params: 621\n",
            "Trainable params: 621\n",
            "Non-trainable params: 0\n",
            "_________________________________________________________________\n"
          ],
          "name": "stdout"
        }
      ]
    },
    {
      "cell_type": "markdown",
      "metadata": {
        "id": "SORGpmdhjimU",
        "colab_type": "text"
      },
      "source": [
        "#6. Comilacion del modelo creado de la red neuronal, entrenamiento y gráfica de errores."
      ]
    },
    {
      "cell_type": "code",
      "metadata": {
        "id": "Iuiu2FIA6-3J",
        "colab_type": "code",
        "colab": {}
      },
      "source": [
        "#COMPILACIÓN DEL MODELO\n",
        "model.compile(loss=keras.losses.mse,        # sea una funcion derivable y continuo\n",
        "              optimizer=\"sgd\",              \n",
        "              metrics=[keras.losses.mae])   # loss como metrics, miren para el mismo sentido o lado, error absoluto y accuarcy acierto"
      ],
      "execution_count": 0,
      "outputs": []
    },
    {
      "cell_type": "code",
      "metadata": {
        "id": "05-5iJAc9k6w",
        "colab_type": "code",
        "outputId": "7b2d9128-edb8-463f-ebca-0b8a9de9db26",
        "colab": {
          "base_uri": "https://localhost:8080/",
          "height": 1000
        }
      },
      "source": [
        "#ENTRENAMIENTO DE LA RED NEURONAL CON XTRAIN\n",
        "history = model.fit(Xtrain, Ytrain, epochs=30, batch_size=30,validation_data=(Xvalid,Yvalid))"
      ],
      "execution_count": 11,
      "outputs": [
        {
          "output_type": "stream",
          "text": [
            "Train on 10113 samples, validate on 4335 samples\n",
            "Epoch 1/30\n",
            "10113/10113 [==============================] - 1s 77us/sample - loss: 18638377198.3055 - mean_absolute_error: 101678.1562 - val_loss: 13694249154.8789 - val_mean_absolute_error: 91201.2500\n",
            "Epoch 2/30\n",
            "10113/10113 [==============================] - 1s 58us/sample - loss: 13283797749.4061 - mean_absolute_error: 90771.7344 - val_loss: 13655270498.3253 - val_mean_absolute_error: 92096.5781\n",
            "Epoch 3/30\n",
            "10113/10113 [==============================] - 1s 56us/sample - loss: 13281382487.1813 - mean_absolute_error: 91020.0469 - val_loss: 13662132011.4048 - val_mean_absolute_error: 91792.6797\n",
            "Epoch 4/30\n",
            "10113/10113 [==============================] - 1s 58us/sample - loss: 13279921442.4017 - mean_absolute_error: 90965.8906 - val_loss: 13666840040.9689 - val_mean_absolute_error: 91665.9922\n",
            "Epoch 5/30\n",
            "10113/10113 [==============================] - 1s 57us/sample - loss: 13281994947.0187 - mean_absolute_error: 90907.9297 - val_loss: 13656654288.1661 - val_mean_absolute_error: 92008.4453\n",
            "Epoch 6/30\n",
            "10113/10113 [==============================] - 1s 59us/sample - loss: 13280538692.2717 - mean_absolute_error: 90992.3750 - val_loss: 13657726869.7024 - val_mean_absolute_error: 91955.3438\n",
            "Epoch 7/30\n",
            "10113/10113 [==============================] - 1s 59us/sample - loss: 13280846168.4723 - mean_absolute_error: 91019.2109 - val_loss: 13655371832.6920 - val_mean_absolute_error: 92090.1641\n",
            "Epoch 8/30\n",
            "10113/10113 [==============================] - 1s 57us/sample - loss: 13280093937.1154 - mean_absolute_error: 91070.4141 - val_loss: 13666355699.5986 - val_mean_absolute_error: 91678.1641\n",
            "Epoch 9/30\n",
            "10113/10113 [==============================] - 1s 58us/sample - loss: 13280341152.0854 - mean_absolute_error: 90840.2578 - val_loss: 13654014061.8408 - val_mean_absolute_error: 92377.6250\n",
            "Epoch 10/30\n",
            "10113/10113 [==============================] - 1s 58us/sample - loss: 13279898446.5239 - mean_absolute_error: 91022.7500 - val_loss: 13654599354.0208 - val_mean_absolute_error: 92160.7500\n",
            "Epoch 11/30\n",
            "10113/10113 [==============================] - 1s 58us/sample - loss: 13280413482.4515 - mean_absolute_error: 90984.6250 - val_loss: 13654211261.5640 - val_mean_absolute_error: 92419.3359\n",
            "Epoch 12/30\n",
            "10113/10113 [==============================] - 1s 60us/sample - loss: 13280653328.7072 - mean_absolute_error: 91053.1094 - val_loss: 13657195555.4325 - val_mean_absolute_error: 91981.5703\n",
            "Epoch 13/30\n",
            "10113/10113 [==============================] - 1s 60us/sample - loss: 13281807347.5455 - mean_absolute_error: 90959.8047 - val_loss: 13658820101.3149 - val_mean_absolute_error: 91909.6953\n",
            "Epoch 14/30\n",
            "10113/10113 [==============================] - 1s 62us/sample - loss: 13280327026.9000 - mean_absolute_error: 90951.9141 - val_loss: 13653980955.4602 - val_mean_absolute_error: 92271.4844\n",
            "Epoch 15/30\n",
            "10113/10113 [==============================] - 1s 61us/sample - loss: 13280509010.9285 - mean_absolute_error: 91027.1016 - val_loss: 13654198831.8339 - val_mean_absolute_error: 92218.5000\n",
            "Epoch 16/30\n",
            "10113/10113 [==============================] - 1s 61us/sample - loss: 13279414863.1314 - mean_absolute_error: 91062.8594 - val_loss: 13655087059.7093 - val_mean_absolute_error: 92115.6406\n",
            "Epoch 17/30\n",
            "10113/10113 [==============================] - 1s 61us/sample - loss: 13280670302.6236 - mean_absolute_error: 90978.7031 - val_loss: 13653935483.1280 - val_mean_absolute_error: 92322.2109\n",
            "Epoch 18/30\n",
            "10113/10113 [==============================] - 1s 62us/sample - loss: 13279600646.0753 - mean_absolute_error: 91139.5547 - val_loss: 13664610598.0900 - val_mean_absolute_error: 91723.6797\n",
            "Epoch 19/30\n",
            "10113/10113 [==============================] - 1s 64us/sample - loss: 13279683863.6179 - mean_absolute_error: 90822.5938 - val_loss: 13654023784.5259 - val_mean_absolute_error: 92370.7734\n",
            "Epoch 20/30\n",
            "10113/10113 [==============================] - 1s 65us/sample - loss: 13279876333.6221 - mean_absolute_error: 91080.5156 - val_loss: 13657305466.2422 - val_mean_absolute_error: 91977.5938\n",
            "Epoch 21/30\n",
            "10113/10113 [==============================] - 1s 60us/sample - loss: 13279830379.0021 - mean_absolute_error: 90984.2266 - val_loss: 13656851392.2215 - val_mean_absolute_error: 92001.0078\n",
            "Epoch 22/30\n",
            "10113/10113 [==============================] - 1s 60us/sample - loss: 13280122845.3705 - mean_absolute_error: 90931.5938 - val_loss: 13654094440.5259 - val_mean_absolute_error: 92245.2734\n",
            "Epoch 23/30\n",
            "10113/10113 [==============================] - 1s 58us/sample - loss: 13280609840.4509 - mean_absolute_error: 91001.3906 - val_loss: 13655432018.3806 - val_mean_absolute_error: 92089.9531\n",
            "Epoch 24/30\n",
            "10113/10113 [==============================] - 1s 61us/sample - loss: 13278326209.3859 - mean_absolute_error: 91043.0000 - val_loss: 13661871826.8235 - val_mean_absolute_error: 91803.6172\n",
            "Epoch 25/30\n",
            "10113/10113 [==============================] - 1s 60us/sample - loss: 13281645008.7642 - mean_absolute_error: 90946.4453 - val_loss: 13659904198.4221 - val_mean_absolute_error: 91870.2344\n",
            "Epoch 26/30\n",
            "10113/10113 [==============================] - 1s 59us/sample - loss: 13279882896.4414 - mean_absolute_error: 90953.9141 - val_loss: 13653971900.6782 - val_mean_absolute_error: 92306.8281\n",
            "Epoch 27/30\n",
            "10113/10113 [==============================] - 1s 60us/sample - loss: 13280424379.9561 - mean_absolute_error: 91020.4922 - val_loss: 13656158916.6505 - val_mean_absolute_error: 92042.1016\n",
            "Epoch 28/30\n",
            "10113/10113 [==============================] - 1s 62us/sample - loss: 13279988230.8348 - mean_absolute_error: 90979.7891 - val_loss: 13654791447.9170 - val_mean_absolute_error: 92147.5078\n",
            "Epoch 29/30\n",
            "10113/10113 [==============================] - 1s 62us/sample - loss: 13278147390.8039 - mean_absolute_error: 91079.6953 - val_loss: 13663444836.0969 - val_mean_absolute_error: 91757.0625\n",
            "Epoch 30/30\n",
            "10113/10113 [==============================] - 1s 59us/sample - loss: 13281224946.5583 - mean_absolute_error: 90896.9141 - val_loss: 13656152042.7405 - val_mean_absolute_error: 92043.2188\n"
          ],
          "name": "stdout"
        }
      ]
    },
    {
      "cell_type": "code",
      "metadata": {
        "id": "QWWzcOL6_xyo",
        "colab_type": "code",
        "outputId": "6676cce6-0137-4b6e-f472-5f604acdb563",
        "colab": {
          "base_uri": "https://localhost:8080/",
          "height": 34
        }
      },
      "source": [
        "#IMPRESION DE LAS ÉPOCAS\n",
        "print(history.epoch)"
      ],
      "execution_count": 12,
      "outputs": [
        {
          "output_type": "stream",
          "text": [
            "[0, 1, 2, 3, 4, 5, 6, 7, 8, 9, 10, 11, 12, 13, 14, 15, 16, 17, 18, 19, 20, 21, 22, 23, 24, 25, 26, 27, 28, 29]\n"
          ],
          "name": "stdout"
        }
      ]
    },
    {
      "cell_type": "code",
      "metadata": {
        "id": "UPbQ4AMgUEb3",
        "colab_type": "code",
        "outputId": "3dc9f307-6a98-4b8a-9c26-180f75f34dd4",
        "colab": {
          "base_uri": "https://localhost:8080/",
          "height": 34
        }
      },
      "source": [
        "#IMPRESION DE LAS ETIQUETAS DE LOS ERRORES\n",
        "history.history.keys()"
      ],
      "execution_count": 13,
      "outputs": [
        {
          "output_type": "execute_result",
          "data": {
            "text/plain": [
              "dict_keys(['loss', 'mean_absolute_error', 'val_loss', 'val_mean_absolute_error'])"
            ]
          },
          "metadata": {
            "tags": []
          },
          "execution_count": 13
        }
      ]
    },
    {
      "cell_type": "code",
      "metadata": {
        "id": "xWsdMH3bG66U",
        "colab_type": "code",
        "outputId": "2f8b7a03-0e91-4106-b5af-cfcceaf3dd06",
        "colab": {
          "base_uri": "https://localhost:8080/",
          "height": 494
        }
      },
      "source": [
        "#GRAFICA DE LOS ERROES DE ACUERDO AL CONJUNTO DE VALIDACIÓN\n",
        "import pandas as pd\n",
        "\n",
        "pd.DataFrame(history.history).plot(figsize=(8, 8))\n",
        "plt.grid(True)\n",
        "#plt.gca().set_ylim(0, 1)\n",
        "#save_fig(\"keras_learning_curves_plot\")\n",
        "plt.show()"
      ],
      "execution_count": 14,
      "outputs": [
        {
          "output_type": "display_data",
          "data": {
            "image/png": "[encoded data removed]",
            "text/plain": [
              "<Figure size 576x576 with 1 Axes>"
            ]
          },
          "metadata": {
            "tags": []
          }
        }
      ]
    },
    {
      "cell_type": "markdown",
      "metadata": {
        "id": "ZwvZ5ZZgkafW",
        "colab_type": "text"
      },
      "source": [
        "#7. EVALUACIÓN DEL MODELO  DE LA RED NEURONAL CON EL CONJUNTO DE TEST (Xtest,Ytes)."
      ]
    },
    {
      "cell_type": "code",
      "metadata": {
        "id": "f1pROmc9HCwb",
        "colab_type": "code",
        "outputId": "79174a47-7a4c-41f8-f760-2df12c2b08b2",
        "colab": {
          "base_uri": "https://localhost:8080/",
          "height": 51
        }
      },
      "source": [
        "#EVALUACION DEL MODELO CON EL CONJUNTO DE TEST\n",
        "model.evaluate(Xtest, Ytest)"
      ],
      "execution_count": 15,
      "outputs": [
        {
          "output_type": "stream",
          "text": [
            "6192/6192 [==============================] - 0s 29us/sample - loss: 13122340287.1731 - mean_absolute_error: 90515.5234\n"
          ],
          "name": "stdout"
        },
        {
          "output_type": "execute_result",
          "data": {
            "text/plain": [
              "[13122340287.173126, 90515.52]"
            ]
          },
          "metadata": {
            "tags": []
          },
          "execution_count": 15
        }
      ]
    },
    {
      "cell_type": "code",
      "metadata": {
        "id": "V8S3ZABwHwrC",
        "colab_type": "code",
        "colab": {
          "base_uri": "https://localhost:8080/",
          "height": 136
        },
        "outputId": "c0ffe8a6-fdb4-44be-b4a0-28579c7a32cf"
      },
      "source": [
        "#model.preict, xtest\n",
        "Ypred = model.predict(Xtest, batch_size=30)\n",
        "Ypred"
      ],
      "execution_count": 16,
      "outputs": [
        {
          "output_type": "execute_result",
          "data": {
            "text/plain": [
              "array([[206606.64],\n",
              "       [206606.64],\n",
              "       [206606.64],\n",
              "       ...,\n",
              "       [206606.64],\n",
              "       [206606.64],\n",
              "       [206606.64]], dtype=float32)"
            ]
          },
          "metadata": {
            "tags": []
          },
          "execution_count": 16
        }
      ]
    },
    {
      "cell_type": "markdown",
      "metadata": {
        "id": "kaOO8kAE0wTO",
        "colab_type": "text"
      },
      "source": [
        "#8. Grafica de los valores reales de la salida(median_house_value) y los valores estimados()ypred."
      ]
    },
    {
      "cell_type": "code",
      "metadata": {
        "id": "I3xd9x0EyATb",
        "colab_type": "code",
        "colab": {
          "base_uri": "https://localhost:8080/",
          "height": 391
        },
        "outputId": "d253135d-15e1-48f7-957b-3726b3d845b5"
      },
      "source": [
        "plt.figure(figsize=(20, 6))\n",
        "plt.plot(np.array(Ytest),label='Ytest')\n",
        "plt.plot(np.array(Ypred),label='Ypred')\n",
        "plt.legend()\n",
        "plt.show"
      ],
      "execution_count": 17,
      "outputs": [
        {
          "output_type": "execute_result",
          "data": {
            "text/plain": [
              "<function matplotlib.pyplot.show>"
            ]
          },
          "metadata": {
            "tags": []
          },
          "execution_count": 17
        },
        {
          "output_type": "display_data",
          "data": {
            "image/png": "[encoded data removed]",
            "text/plain": [
              "<Figure size 1440x432 with 1 Axes>"
            ]
          },
          "metadata": {
            "tags": []
          }
        }
      ]
    },
    {
      "cell_type": "code",
      "metadata": {
        "id": "KMqCMAys2fNg",
        "colab_type": "code",
        "colab": {}
      },
      "source": [
        ""
      ],
      "execution_count": 0,
      "outputs": []
    }
  ]
}